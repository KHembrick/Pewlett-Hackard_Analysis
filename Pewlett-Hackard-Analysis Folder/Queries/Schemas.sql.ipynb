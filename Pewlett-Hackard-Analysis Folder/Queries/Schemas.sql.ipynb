{
 "cells": [
  {
   "cell_type": "code",
   "execution_count": null,
   "metadata": {},
   "outputs": [],
   "source": [
    "-- Creating tables for PH-EmployeeDB\n",
    "CREATE TABLE departments (\n",
    "     dept_no VARCHAR(4) NOT NULL,\n",
    "     dept_name VARCHAR(40) NOT NULL,\n",
    "     PRIMARY KEY (dept_no),\n",
    "     UNIQUE (dept_name)\n",
    ");\n",
    "CREATE TABLE employees (\n",
    "\temp_no INT Not Null,\n",
    "\tbirth_date DATE Not Null,\n",
    "\tfirst_name VARCHAR Not Null,\n",
    "\tgender VARCHAR Not Null,\n",
    "\thire_date DATE Not Null,\n",
    "\tPRIMARY KEY (emp_no)\n",
    ");\n",
    "CREATE TABLE dept_manager (\n",
    "dept_no VARCHAR(4) NOT NULL,\n",
    "    emp_no INT NOT NULL,\n",
    "    from_date DATE NOT NULL,\n",
    "    to_date DATE NOT NULL,\n",
    "FOREIGN KEY (emp_no) REFERENCES employees (emp_no),\n",
    "FOREIGN KEY (dept_no) REFERENCES departments (dept_no),\n",
    "    PRIMARY KEY (emp_no, dept_no)\n",
    ");\n",
    "CREATE TABLE salaries (\n",
    "  emp_no INT NOT NULL,\n",
    "  salary INT NOT NULL,\n",
    "  from_date DATE NOT NULL,\n",
    "  to_date DATE NOT NULL,\n",
    "  FOREIGN KEY (emp_no) REFERENCES employees (emp_no),\n",
    "  PRIMARY KEY (emp_no)\n",
    ");\n",
    "SELECT*FROM departments;\n"
   ]
  }
 ],
 "metadata": {
  "language_info": {
   "name": "python"
  },
  "orig_nbformat": 4
 },
 "nbformat": 4,
 "nbformat_minor": 2
}
